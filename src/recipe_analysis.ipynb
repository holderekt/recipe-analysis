{
 "cells": [
  {
   "cell_type": "markdown",
   "metadata": {},
   "source": [
    "# PREPROCESSING"
   ]
  },
  {
   "cell_type": "markdown",
   "metadata": {},
   "source": [
    "Ricette definite in un formato semistrutturato, raggruppamento degli step e ingredienti in un unica stringa, funzioni di utilità"
   ]
  },
  {
   "cell_type": "markdown",
   "metadata": {},
   "source": [
    "### Funzioni util e import\n",
    "Import di tutti i requisiti, download dei dataset NLTK e inizializzazione di SpaCy"
   ]
  },
  {
   "cell_type": "code",
   "execution_count": 65,
   "metadata": {},
   "outputs": [],
   "source": [
    "%%capture\n",
    "\n",
    "from pathlib import Path\n",
    "import pandas as pd\n",
    "from IPython.display import display\n",
    "from ast import literal_eval\n",
    "import re\n",
    "import nltk\n",
    "from nltk.tokenize import word_tokenize, sent_tokenize\n",
    "from nltk.corpus import stopwords\n",
    "from nltk.stem import PorterStemmer\n",
    "from nltk.stem import WordNetLemmatizer\n",
    "from nltk import word_tokenize\n",
    "import spacy\n",
    "from spacy import displacy\n",
    "from spacy.symbols import X, NUM, VERB, NOUN\n",
    "from nltk.corpus import wordnet as wn\n",
    "\n",
    "nltk.download('stopwords');\n",
    "nltk.download('wordnet');\n",
    "nltk.download('averaged_perceptron_tagger');\n",
    "nltk.download('maxent_ne_chunker');\n",
    "nltk.download('words');\n",
    "nltk.download('conll2000');\n",
    "\n",
    "\n",
    "!python -m spacy download en_core_web_md\n",
    "\n",
    "NLP = spacy.load('en_core_web_md');\n",
    "\n",
    "\n",
    "def string_recipe(i):\n",
    "    return dataset.iloc[i]['title'] + \"\\n\\n\" + dataset.iloc[i]['ingredients'] + \"\\n\\n\" + dataset.iloc[i]['step'] "
   ]
  },
  {
   "cell_type": "markdown",
   "metadata": {},
   "source": [
    "### Caricamento del dataset\n",
    "\n",
    "Caricamento del datset da un formato CSV in un DataFrame Pandas"
   ]
  },
  {
   "cell_type": "code",
   "execution_count": 66,
   "metadata": {},
   "outputs": [
    {
     "data": {
      "text/html": [
       "<div>\n",
       "<style scoped>\n",
       "    .dataframe tbody tr th:only-of-type {\n",
       "        vertical-align: middle;\n",
       "    }\n",
       "\n",
       "    .dataframe tbody tr th {\n",
       "        vertical-align: top;\n",
       "    }\n",
       "\n",
       "    .dataframe thead th {\n",
       "        text-align: right;\n",
       "    }\n",
       "</style>\n",
       "<table border=\"1\" class=\"dataframe\">\n",
       "  <thead>\n",
       "    <tr style=\"text-align: right;\">\n",
       "      <th></th>\n",
       "      <th>title</th>\n",
       "      <th>ingredients</th>\n",
       "      <th>step</th>\n",
       "    </tr>\n",
       "    <tr>\n",
       "      <th>index</th>\n",
       "      <th></th>\n",
       "      <th></th>\n",
       "      <th></th>\n",
       "    </tr>\n",
       "  </thead>\n",
       "  <tbody>\n",
       "    <tr>\n",
       "      <th>0</th>\n",
       "      <td>No-Bake Nut Cookies</td>\n",
       "      <td>1 c. firmly packed brown sugar.\\n1/2 c. evapor...</td>\n",
       "      <td>In a heavy 2-quart saucepan, mix brown sugar, ...</td>\n",
       "    </tr>\n",
       "    <tr>\n",
       "      <th>1</th>\n",
       "      <td>Jewell Ball'S Chicken</td>\n",
       "      <td>1 small jar chipped beef, cut up.\\n4 boned chi...</td>\n",
       "      <td>Place chipped beef on bottom of baking dish. P...</td>\n",
       "    </tr>\n",
       "    <tr>\n",
       "      <th>2</th>\n",
       "      <td>Creamy Corn</td>\n",
       "      <td>2 (16 oz.) pkg. frozen corn.\\n1 (8 oz.) pkg. c...</td>\n",
       "      <td>In a slow cooker, combine all ingredients. Cov...</td>\n",
       "    </tr>\n",
       "    <tr>\n",
       "      <th>3</th>\n",
       "      <td>Chicken Funny</td>\n",
       "      <td>1 large whole chicken.\\n2 (10 1/2 oz.) cans ch...</td>\n",
       "      <td>Boil and debone chicken. Put bite size pieces ...</td>\n",
       "    </tr>\n",
       "    <tr>\n",
       "      <th>4</th>\n",
       "      <td>Reeses Cups(Candy)</td>\n",
       "      <td>1 c. peanut butter.\\n3/4 c. graham cracker cru...</td>\n",
       "      <td>Combine first four ingredients and press in 13...</td>\n",
       "    </tr>\n",
       "  </tbody>\n",
       "</table>\n",
       "</div>"
      ],
      "text/plain": [
       "                       title  \\\n",
       "index                          \n",
       "0        No-Bake Nut Cookies   \n",
       "1      Jewell Ball'S Chicken   \n",
       "2                Creamy Corn   \n",
       "3              Chicken Funny   \n",
       "4       Reeses Cups(Candy)     \n",
       "\n",
       "                                             ingredients  \\\n",
       "index                                                      \n",
       "0      1 c. firmly packed brown sugar.\\n1/2 c. evapor...   \n",
       "1      1 small jar chipped beef, cut up.\\n4 boned chi...   \n",
       "2      2 (16 oz.) pkg. frozen corn.\\n1 (8 oz.) pkg. c...   \n",
       "3      1 large whole chicken.\\n2 (10 1/2 oz.) cans ch...   \n",
       "4      1 c. peanut butter.\\n3/4 c. graham cracker cru...   \n",
       "\n",
       "                                                    step  \n",
       "index                                                     \n",
       "0      In a heavy 2-quart saucepan, mix brown sugar, ...  \n",
       "1      Place chipped beef on bottom of baking dish. P...  \n",
       "2      In a slow cooker, combine all ingredients. Cov...  \n",
       "3      Boil and debone chicken. Put bite size pieces ...  \n",
       "4      Combine first four ingredients and press in 13...  "
      ]
     },
     "metadata": {},
     "output_type": "display_data"
    },
    {
     "name": "stdout",
     "output_type": "stream",
     "text": [
      "Worm Meat(Shredded Barbecue Beef)  \n",
      "\n",
      "3 lb. or larger chuck roast.\n",
      "1 large onion, chopped.\n",
      "1 stalk celery, chopped.\n",
      "1 large green pepper, chopped.\n",
      "1 1/2 qt. water.\n",
      "2 clove garlic.\n",
      "1 tsp. salt.\n",
      "1 (16 to 20 oz.) bottle ketchup (plain or tangy).\n",
      "2 Tbsp. brown sugar.\n",
      "2 Tbsp. vinegar.\n",
      "1 tsp. allspice.\n",
      "1 tsp. dry mustard.\n",
      "1/2 tsp. chili powder.\n",
      "2 to 3 drops Tabasco sauce.\n",
      "1 bay leaf.\n",
      "1/4 tsp. garlic powder.\n",
      "1/4 tsp. paprika\n",
      "\n",
      "Place roast and vegetables in a large, heavy pot. Cover with water. Cook, covered, for 4 hours. Remove meat, cool and shred with a fork. Return meat to 1 1/2 cups of the broth. Add remaining ingredients. Slowly boil, uncovered, for 1 hour. Additional broth may be added, if needed. When done, mixture should be of spreading consistency. Serve on either noodles or rolls. Serves 10 to 12.\n"
     ]
    }
   ],
   "source": [
    "dataset = pd.read_csv(\n",
    "    Path(\"../data/test_dataset.csv\").resolve(), \n",
    "    index_col=[0], \n",
    "    names=[\"index\", \"title\",\"ingredients\",\"step\"], \n",
    "    usecols=[0,1,2,3]\n",
    "    )\n",
    "\n",
    "for index in range(len(dataset)):\n",
    "    dataset.iloc[index]['ingredients'] = \".\\n\".join(literal_eval(dataset.iloc[index]['ingredients']))\n",
    "    dataset.iloc[index]['step'] = \" \".join(literal_eval(dataset.iloc[index]['step']))\n",
    "\n",
    "display(dataset.head())\n",
    "print(string_recipe(1626))\n"
   ]
  },
  {
   "cell_type": "markdown",
   "metadata": {},
   "source": [
    "### Estrazione delle abbreviazioni"
   ]
  },
  {
   "cell_type": "markdown",
   "metadata": {},
   "source": [
    "Fase iniziale di ritrovamento del set di abbreviazioni"
   ]
  },
  {
   "cell_type": "code",
   "execution_count": 67,
   "metadata": {},
   "outputs": [
    {
     "name": "stdout",
     "output_type": "stream",
     "text": [
      "{' T.', ' Mrs.', ' TBSP.', ' tsp.', ' t.', ' sq.', ' lg.', ' Tbsp.', ' No.', ' mix.', ' tbsp.', ' large.', ' qt.', ' qts.', ' c.', ' pkgs.', ' sm.', ' A.', ' doz.', ' C.', ' lb.', ' etc.', ' gal.', ' lbs.', ' Pkg.', ' pt.', ' m.', ' oz.', ' pkg.'}\n"
     ]
    }
   ],
   "source": [
    "abbrv_dataset = pd.read_csv(\n",
    "    Path(\"../data/test_dataset.csv\").resolve(), \n",
    "    index_col=[0], \n",
    "    names=[\"index\", \"title\",\"ingredients\",\"step\"], \n",
    "    usecols=[0,1,2,3]\n",
    "    )\n",
    "\n",
    "abbrv = set()\n",
    "for index in range(len(dataset)):\n",
    "    abbrv_dataset.iloc[index]['ingredients'] = \" \".join(literal_eval(abbrv_dataset.iloc[index]['ingredients']))\n",
    "    for element in re.findall(r\" [A-Za-z]*\\.\", abbrv_dataset.iloc[index]['ingredients']):\n",
    "        abbrv.add(element)\n",
    "    \n",
    "print(abbrv)"
   ]
  },
  {
   "cell_type": "markdown",
   "metadata": {},
   "source": [
    "Rimozione delle abbreviazioni."
   ]
  },
  {
   "cell_type": "code",
   "execution_count": 68,
   "metadata": {},
   "outputs": [],
   "source": [
    "def expand_abbreviations(ingredients_string):\n",
    "    __ABBREVIATIONS__ = {\n",
    "        ' pkg.'  :   ' package',\n",
    "        ' tsb.'  :   ' tablespoon',\n",
    "        ' no.'   :   ' number',\n",
    "        ' pt.'   :   ' pint',\n",
    "        ' no.'   :   ' number',\n",
    "        ' gal.'  :   ' gallon',\n",
    "        ' tbsp.' :   ' tablespoon',\n",
    "        ' sq.'   :   ' square',\n",
    "        ' oz.'   :   ' ounce',\n",
    "        ' lb.'   :   ' pound',\n",
    "        ' qt.'   :   ' quart',\n",
    "        ' qts.'  :   ' quart',\n",
    "        ' c.'    :   ' cup',\n",
    "        ' tsp.'  :   ' teaspoon',\n",
    "        ' doz.'  :   ' dozen',\n",
    "        ' c.'    :   ' cup',\n",
    "        ' pkgs.' :   ' package',  \n",
    "        ' gal.'  :   ' gallon',\n",
    "        ' t.'    :   ' teaspoon',\n",
    "        ' g.'    :   ' gram',\n",
    "        ' lbs.'  :   ' pound',\n",
    "    }\n",
    "    for item, value in __ABBREVIATIONS__.items():\n",
    "        ingredients_string = ingredients_string.lower().replace(item, value)\n",
    "    return ingredients_string\n",
    "\n",
    "\n",
    "for index in range(len(dataset)):\n",
    "    dataset.iloc[index]['ingredients'] = expand_abbreviations(dataset.iloc[index]['ingredients'])"
   ]
  },
  {
   "cell_type": "markdown",
   "metadata": {},
   "source": [
    "### Sentence splitting\n",
    "Il contenuto delle colonne 'ingredients' e 'step' verrà suddiviso in frasi. In precedenza i periodi contenuti nelle singole celle sono stati formattati in modo tale da renderli riconoscibili e facilmente suddivisibili in frasi ben separate."
   ]
  },
  {
   "cell_type": "code",
   "execution_count": 69,
   "metadata": {},
   "outputs": [
    {
     "name": "stdout",
     "output_type": "stream",
     "text": [
      "['3 pound or larger chuck roast.', '1 large onion, chopped.', '1 stalk celery, chopped.', '1 large green pepper, chopped.', '1 1/2 quart water.', '2 clove garlic.', '1 teaspoon salt.', '1 (16 to 20 ounce) bottle ketchup (plain or tangy).', '2 tablespoon brown sugar.', '2 tablespoon vinegar.', '1 teaspoon allspice.', '1 teaspoon dry mustard.', '1/2 teaspoon chili powder.', '2 to 3 drops tabasco sauce.', '1 bay leaf.', '1/4 teaspoon garlic powder.', '1/4 teaspoon paprika']\n"
     ]
    }
   ],
   "source": [
    "for index in range(len(dataset)):\n",
    "     dataset.iloc[index]['ingredients'] = (sent_tokenize(dataset.iloc[index]['ingredients']))\n",
    "print(dataset.iloc[1626]['ingredients'])"
   ]
  },
  {
   "cell_type": "code",
   "execution_count": 70,
   "metadata": {},
   "outputs": [
    {
     "name": "stdout",
     "output_type": "stream",
     "text": [
      "['Place roast and vegetables in a large, heavy pot.', 'Cover with water.', 'Cook, covered, for 4 hours.', 'Remove meat, cool and shred with a fork.', 'Return meat to 1 1/2 cups of the broth.', 'Add remaining ingredients.', 'Slowly boil, uncovered, for 1 hour.', 'Additional broth may be added, if needed.', 'When done, mixture should be of spreading consistency.', 'Serve on either noodles or rolls.', 'Serves 10 to 12.']\n"
     ]
    }
   ],
   "source": [
    "for index in range(len(dataset)):\n",
    "     dataset.iloc[index]['step'] = (sent_tokenize(dataset.iloc[index]['step']))\n",
    "print(dataset.iloc[1626]['step'])"
   ]
  },
  {
   "cell_type": "markdown",
   "metadata": {},
   "source": [
    "### Rimozione quantità doppie\n",
    "Il dataset contiene multiple scelte per le quantità, per facilitare il processo di ritrovamento delle quantità e delle unità di misura eventuali quantità opzionali vengono rimosse."
   ]
  },
  {
   "cell_type": "code",
   "execution_count": 71,
   "metadata": {},
   "outputs": [],
   "source": [
    "dr_reg = r'\\d*\\s*\\(.*\\)\\s'\n",
    "\n",
    "for index in range(len(dataset)):\n",
    "    for value in range(len(dataset.iloc[index]['ingredients'])):\n",
    "        elements = re.findall(dr_reg, dataset.iloc[index]['ingredients'][value])\n",
    "        for e in elements:\n",
    "            new_string = dataset.iloc[index]['ingredients'][value].replace(e,e[e.find(\"(\")+1: e.find(\")\")].strip() + \" \")\n",
    "            dataset.iloc[index]['ingredients'][value] = new_string"
   ]
  },
  {
   "cell_type": "code",
   "execution_count": 72,
   "metadata": {},
   "outputs": [
    {
     "name": "stdout",
     "output_type": "stream",
     "text": [
      "['3 pound or larger chuck roast.', '1 large onion, chopped.', '1 stalk celery, chopped.', '1 large green pepper, chopped.', '1 1/2 quart water.', '2 clove garlic.', '1 teaspoon salt.', '16 to 20 ounce bottle ketchup (plain or tangy).', '2 tablespoon brown sugar.', '2 tablespoon vinegar.', '1 teaspoon allspice.', '1 teaspoon dry mustard.', '1/2 teaspoon chili powder.', '2 to 3 drops tabasco sauce.', '1 bay leaf.', '1/4 teaspoon garlic powder.', '1/4 teaspoon paprika']\n"
     ]
    }
   ],
   "source": [
    "print(str(dataset.iloc[1626]['ingredients']))"
   ]
  },
  {
   "cell_type": "markdown",
   "metadata": {},
   "source": [
    "## PREPROCESSING OPZIONALE\n",
    "Stop word removal, stemming e lemming non hanno dato i risultati sperati nella fase di analisi, sono state rimosse dalla pipeline finale ma vengono definite qui a fine di documentazione dello sviluppo"
   ]
  },
  {
   "cell_type": "markdown",
   "metadata": {},
   "source": [
    "### Stop words removal\n",
    "Nella colonna 'step' troviamo una serie di passaggi da compiere per creare la ricetta. Questi passaggi sono scritti in linguaggio naturale e possono essere semplificati rimuovendo delle parole dette stop words."
   ]
  },
  {
   "cell_type": "code",
   "execution_count": 73,
   "metadata": {},
   "outputs": [],
   "source": [
    "# OPTINAL -> Risultati in swr_dataset\"\n",
    "\n",
    "stop_words = set(stopwords.words('english'))\n",
    "swr_dataset = dataset.copy(deep=True)\n",
    "\n",
    "tk = lambda x,st: ' '.join([w for w in x if w not in st])\n",
    "for index in range(len(dataset)):\n",
    "    swr_dataset.iloc[index]['step'] = [tk(word_tokenize(sent), stop_words) for sent in dataset.iloc[index]['step']]"
   ]
  },
  {
   "cell_type": "markdown",
   "metadata": {},
   "source": [
    "### Stemming e Lemming\n",
    "Questi due processi potrebbero portare valore all'analisi del dominio. Il codice per entrambi viene proposto qui."
   ]
  },
  {
   "cell_type": "code",
   "execution_count": 74,
   "metadata": {},
   "outputs": [],
   "source": [
    "# OPTINAL -> Risultati in lem_dataset\"\n",
    "\n",
    "lemmatizer = WordNetLemmatizer()\n",
    "lem_dataset = swr_dataset.copy(deep=True)\n",
    "\n",
    "for index in range(len(swr_dataset)):\n",
    "    lem_dataset.iloc[index]['step'] = stem_sent = [' '.join([lemmatizer.lemmatize(w) for w in word_tokenize(sent)]) for sent in swr_dataset.iloc[index]['step']]"
   ]
  },
  {
   "cell_type": "code",
   "execution_count": 75,
   "metadata": {},
   "outputs": [],
   "source": [
    "# OPTINAL -> Risultati in stm_dataset\"\n",
    "\n",
    "stemmer = PorterStemmer()\n",
    "stm_dataset = lem_dataset.copy(deep=True)\n",
    "\n",
    "for index in range(len(lem_dataset)):\n",
    "    stm_dataset.iloc[index]['step'] = [' '.join([stemmer.stem(w) for w in word_tokenize(sent)]) for sent in lem_dataset.iloc[index]['step']]"
   ]
  },
  {
   "cell_type": "markdown",
   "metadata": {},
   "source": [
    "Stampa dei risultati delle operazioni di stop word removal, stemming e lemming"
   ]
  },
  {
   "cell_type": "code",
   "execution_count": 76,
   "metadata": {},
   "outputs": [
    {
     "name": "stdout",
     "output_type": "stream",
     "text": [
      "Frasi originali\n",
      "\n",
      "['Drain cherries, measuring syrup.', 'Cut cherries in half.', 'Add ginger ale and enough water to syrup to make 1 1/2 cups.', 'Dissolve gelatin in boiling water.', 'Add measured liquid and almond extract.', 'Chill until very thick.', 'Fold in marshmallows and the cherries.', 'Spoon into 6-cup mold.', 'Chill until firm, at least 4 hours or overnight.', 'Unmold.', 'Makes about 5 1/3 cups.']\n",
      "\n",
      "Stop word removal\n",
      "\n",
      "['Drain cherries , measuring syrup .', 'Cut cherries half .', 'Add ginger ale enough water syrup make 1 1/2 cups .', 'Dissolve gelatin boiling water .', 'Add measured liquid almond extract .', 'Chill thick .', 'Fold marshmallows cherries .', 'Spoon 6-cup mold .', 'Chill firm , least 4 hours overnight .', 'Unmold .', 'Makes 5 1/3 cups .']\n",
      "\n",
      "Stop word e lemming\n",
      "\n",
      "['Drain cherry , measuring syrup .', 'Cut cherry half .', 'Add ginger ale enough water syrup make 1 1/2 cup .', 'Dissolve gelatin boiling water .', 'Add measured liquid almond extract .', 'Chill thick .', 'Fold marshmallow cherry .', 'Spoon 6-cup mold .', 'Chill firm , least 4 hour overnight .', 'Unmold .', 'Makes 5 1/3 cup .']\n",
      "\n",
      "Stop word lemming e stemming\n",
      "\n",
      "['drain cherri , measur syrup .', 'cut cherri half .', 'add ginger ale enough water syrup make 1 1/2 cup .', 'dissolv gelatin boil water .', 'add measur liquid almond extract .', 'chill thick .', 'fold marshmallow cherri .', 'spoon 6-cup mold .', 'chill firm , least 4 hour overnight .', 'unmold .', 'make 5 1/3 cup .']\n"
     ]
    }
   ],
   "source": [
    "print(\"Frasi originali\\n\")\n",
    "print(dataset.iloc[10]['step'])\n",
    "print(\"\\nStop word removal\\n\")\n",
    "print(swr_dataset.iloc[10]['step'])\n",
    "print(\"\\nStop word e lemming\\n\")\n",
    "print(lem_dataset.iloc[10]['step'])\n",
    "print(\"\\nStop word lemming e stemming\\n\")\n",
    "print(stm_dataset.iloc[10]['step'])"
   ]
  },
  {
   "cell_type": "markdown",
   "metadata": {},
   "source": [
    "# ANALISI\n",
    "Riconoscimento di ingredienti, step, azioni e relativi attributi"
   ]
  },
  {
   "cell_type": "markdown",
   "metadata": {},
   "source": [
    "### Entityt Extraction, Relation Extraction e POS tagging con SpaCy\n",
    "Analisi del dataset tramie il tool SpaCy, funzioni di utilità per la stampa dei risultati di SpaCy"
   ]
  },
  {
   "cell_type": "code",
   "execution_count": 77,
   "metadata": {},
   "outputs": [],
   "source": [
    "def __pprintsp__(dataset, index, column, value, extend=False):\n",
    "    displacy.render(dataset.iloc[index][column][value], style='dep')\n",
    "    print(dataset.iloc[index][column][value])\n",
    "    displacy.render(dataset.iloc[index][column][value], style='ent')\n",
    "    if extend:\n",
    "        for token in dataset.iloc[index][column][value]:\n",
    "            print(token.text, token.lemma_, token.pos_, token.tag_, token.dep_, token.shape_, token.is_alpha, token.is_stop)\n",
    "\n",
    "def pprint_spacyd_all(dataset, index, column, extend=False):\n",
    "    for v in range(len(dataset.iloc[index][column])):\n",
    "        __pprintsp__(dataset, index, column, v, extend)\n",
    "            \n",
    "def pprint_spacyd(dataset, index, column, value, extend=False):\n",
    "    __pprintsp__(dataset, index, column, value, extend)"
   ]
  },
  {
   "cell_type": "markdown",
   "metadata": {},
   "source": [
    "### Definizione dati strutturati\n",
    "Classi per step, ricetta e ingredienti"
   ]
  },
  {
   "cell_type": "code",
   "execution_count": 78,
   "metadata": {},
   "outputs": [],
   "source": [
    "class Recipe:\n",
    "    def __init__(self, title, index, ingredients_str, steps_str):\n",
    "        self.title = title\n",
    "        self.ingredients = []\n",
    "        self.ing_str = ingredients_str\n",
    "        self.stp_str = steps_str\n",
    "        self.steps = []\n",
    "        self.idx = index\n",
    "    \n",
    "    def add_ing(self, ing):\n",
    "        self.ingredients.append(ing)\n",
    "        \n",
    "    def __str__(self):\n",
    "        _ing_s = '\\n'.join([ing.short_srt() for ing in self.ingredients])\n",
    "        _stp_s = '\\n'.join(str(step) for step in self.steps)\n",
    "        _header_ing = f\"|{'NOME':<40s}|{'PROPRIETÀ':<20s}|{'QUANTITÀ':<11s}|{'TIPO':<21s}|\"\n",
    "        _header_ing_l = f\"+{'-'*40}+{'-'*20}+{'-'*11}+{'-'*21}+\"\n",
    "        _header_step = f\"|{'N°':<2s}|{'AZIONE':<15s}|{'STRUMENTI':<20s}|{'INGREDIENTI':<55s}|\"\n",
    "        _header_step_l = f\"+{'-'*2}+{'-'*15}+{'-'*20}+{'-'*55}|\"\n",
    "        return f\"TITOLO: {self.title}\\n\\n{_header_ing}\\n{_header_ing_l}\\n{_ing_s}\\n{_header_ing_l}\\n\\n{_header_step}\\n{_header_step_l}\\n{_stp_s}\\n{_header_step_l}\"\n",
    "    \n",
    "    def print_unstructured(self):\n",
    "        return f\"{self.title}\\n\\n{self.ing_str}\\n\\n{self.stp_str}\"\n",
    "    \n",
    "    \n",
    "class Step:\n",
    "    def __init__(self, step_str, step_no, index, action, ins, ing):\n",
    "        self.action = action\n",
    "        self.ins = ins\n",
    "        self.ing = ing\n",
    "        self.step_str = step_str\n",
    "        self.step_no = step_no\n",
    "        self.idx = index\n",
    "        \n",
    "    def __str__(self):\n",
    "        return f\"|{self.step_no:<2d}|{self.action:<15s}|{','.join(self.ins):20s}|{','.join(self.ing):55s}|\"\n",
    "\n",
    "    \n",
    "    \n",
    "class Ingredient:\n",
    "    def __init__(self, full_text):\n",
    "        self.name=\"\"\n",
    "        self.ing_cat_id = None\n",
    "        self.size=\"\"\n",
    "        self.quantity= 0.0\n",
    "        self.size=\"\"\n",
    "        self.adj=[]\n",
    "        self.original=full_text\n",
    "    def __str__(self):\n",
    "        return f\"Name: {self.name}\\nAjdectives: {self.adj}\\nQuantity: {self.quantity:4f} {self.size}\\nOriginal: {self.original}\"\n",
    "\n",
    "    def short_srt(self):\n",
    "        return f\"|{self.name:<40s}|{','.join(self.adj):<20s}|{self.quantity:^11.2f}|{self.size:<21s}|\"\n",
    "    \n",
    "    def set_id(self, identifier):\n",
    "        self.ing_cat_id = identifier"
   ]
  },
  {
   "cell_type": "markdown",
   "metadata": {},
   "source": [
    "## ANALISI INGREDIENTI\n",
    "Ritrovamento nel testo di:\n",
    "- Nome dell'ingrediente (es. beef)\n",
    "- Elenco delle sue proprietà (es. minced)\n",
    "- Quantità (es. 1.5)\n",
    "- Misura (es. ounce)"
   ]
  },
  {
   "cell_type": "markdown",
   "metadata": {},
   "source": [
    "### Funzioni di utilità\n",
    "Funzioni che permettono di capire se una parola è un cibo tramtite WordNet, pulizia delle stringhe e parsing delle quantità"
   ]
  },
  {
   "cell_type": "code",
   "execution_count": 79,
   "metadata": {},
   "outputs": [],
   "source": [
    "\n",
    "def is_food(word):\n",
    "    syns = wn.synsets(str(word), pos = wn.NOUN)\n",
    "    for syn in syns:\n",
    "        if 'food' in syn.lexname():\n",
    "            return True\n",
    "    return False\n",
    "\n",
    "def cls_w(word):\n",
    "    BAD_CH = [',', '.', '(', ')', '*', '+', '-', '\\\\', '/', '!', '?', '°']\n",
    "    for ch in BAD_CH:\n",
    "        word = word.replace(ch, '')\n",
    "    return word.strip().lower()\n",
    "\n",
    "def parse_quantity(qt):\n",
    "    if qt == \"\":\n",
    "        return 1\n",
    "    \n",
    "    partial_sum = 0.0\n",
    "    backtrack_multiplier = 1.0\n",
    "    \n",
    "    for elem in qt.split(\" \"):\n",
    "        try:\n",
    "        \n",
    "            if ('/' in elem) and (partial_sum == 0.0):\n",
    "                parsed = elem.split(\"/\")\n",
    "                backtrack_multiplier = float(parsed[0])/float(parsed[1])\n",
    "\n",
    "            elif ('/' in elem) and (partial_sum != 0.0):\n",
    "                parsed = elem.split(\"/\")\n",
    "                partial_sum += (float(parsed[0])/float(parsed[1]))\n",
    "\n",
    "            else:\n",
    "                partial_sum += float(elem)\n",
    "        except ValueError:\n",
    "            pass\n",
    "            \n",
    "    if(partial_sum != 0.0):\n",
    "        partial_sum *= backtrack_multiplier\n",
    "    else:\n",
    "        partial_sum = backtrack_multiplier\n",
    "        \n",
    "    return partial_sum      \n",
    "\n",
    "#Root generation\n",
    "\n",
    "__SIZES__ = [\n",
    "       'package',\n",
    "       'tablespoon',\n",
    "       'number',\n",
    "       'pint',\n",
    "       'number',\n",
    "       'gallon',\n",
    "       'tablespoon',\n",
    "       'square',\n",
    "       'ounce',\n",
    "       'pound',\n",
    "       'quart',\n",
    "       'cup',\n",
    "       'teaspoon',\n",
    "       'can',\n",
    "       'gallon',\n",
    "       'pound'\n",
    "]"
   ]
  },
  {
   "cell_type": "markdown",
   "metadata": {},
   "source": [
    "### Creazione elenco ricette e ingredienti"
   ]
  },
  {
   "cell_type": "code",
   "execution_count": 80,
   "metadata": {},
   "outputs": [
    {
     "name": "stdout",
     "output_type": "stream",
     "text": [
      "Progress: [********************]"
     ]
    }
   ],
   "source": [
    "all_recipes = []\n",
    "    \n",
    "for index in range(len(dataset)):\n",
    "    \n",
    "    value = round(((index+1)/len(dataset))*20)\n",
    "    print(f\"\\rProgress: [{'*'*value}{' '*(20-value)}]\", end='')\n",
    "    \n",
    "    recipe = Recipe(\n",
    "        cls_w(dataset.iloc[index]['title']), \n",
    "        index, \n",
    "        \" \".join(dataset.iloc[index]['ingredients']),\n",
    "        \" \".join(dataset.iloc[index]['step'])       \n",
    "    )\n",
    "    \n",
    "    for element in dataset.iloc[index]['ingredients']:\n",
    "\n",
    "        ingredient = NLP(element)\n",
    "\n",
    "        IGN = Ingredient(ingredient.text)\n",
    "        try:\n",
    "            ROOT_NODE = [token for token in ingredient if token.dep_ == 'ROOT'][0]\n",
    "        except IndexError:\n",
    "            print(index)\n",
    "            print(recipe.title, recipe.ing_str, recipe.step_str)\n",
    "        \n",
    "\n",
    "        if (ROOT_NODE.pos == VERB):\n",
    "                IGN.adj.append(cls_w(ROOT_NODE.text))\n",
    "        else:\n",
    "                IGN.name = cls_w(ROOT_NODE.text)\n",
    "                \n",
    "        stack = [element for element in ROOT_NODE.children]\n",
    "\n",
    "        unparsed_quantity = \"\"\n",
    "        \n",
    "        while len(stack)!=0:\n",
    "            CURRENT_NODE = stack.pop()\n",
    "\n",
    "            if (CURRENT_NODE.pos == X) or (CURRENT_NODE.pos == NUM):\n",
    "                    unparsed_quantity = CURRENT_NODE.text + \" \" + unparsed_quantity\n",
    "            else:\n",
    "                if CURRENT_NODE.text.lower() in  __SIZES__:\n",
    "                    IGN.size += \" \" + cls_w(CURRENT_NODE.text)\n",
    "\n",
    "                if ((CURRENT_NODE.dep_ == 'compound') or (CURRENT_NODE.dep_ == 'dobj') or (CURRENT_NODE.dep_ == 'pobj')) and is_food(CURRENT_NODE.text) and (CURRENT_NODE.text.lower() not in  __SIZES__):\n",
    "                    IGN.name = CURRENT_NODE.text + \" \" + cls_w(IGN.name)\n",
    "\n",
    "                if (CURRENT_NODE.dep_ == 'amod') or (CURRENT_NODE.dep_ == 'appos'):\n",
    "                    if is_food(CURRENT_NODE.text):\n",
    "                        IGN.name = CURRENT_NODE.text + \" \" + cls_w(IGN.name)\n",
    "                    else:\n",
    "                        IGN.adj.append(cls_w(CURRENT_NODE.text))         \n",
    "\n",
    "            stack += [element for element in CURRENT_NODE.children]\n",
    "        \n",
    "        if IGN.name.strip() != \"\":\n",
    "            IGN.quantity = parse_quantity(cls_w(unparsed_quantity))\n",
    "            IGN.name = cls_w(IGN.name)\n",
    "            recipe.add_ing(IGN)\n",
    "    all_recipes.append(recipe)\n",
    "        "
   ]
  },
  {
   "cell_type": "code",
   "execution_count": 81,
   "metadata": {},
   "outputs": [
    {
     "name": "stdout",
     "output_type": "stream",
     "text": [
      "TITOLO: worm meatshredded barbecue beef\n",
      "\n",
      "|NOME                                    |PROPRIETÀ           |QUANTITÀ   |TIPO                 |\n",
      "+----------------------------------------+--------------------+-----------+---------------------+\n",
      "|chuck pound                             |larger              |   3.00    |                     |\n",
      "|onion                                   |chopped,large       |   1.00    |                     |\n",
      "|celery                                  |chopped             |   1.00    |                     |\n",
      "|green                                   |chopped,large       |   1.00    |                     |\n",
      "|water                                   |                    |   13.00   | quart               |\n",
      "|clove garlic                            |                    |   2.00    |                     |\n",
      "|salt                                    |                    |   1.00    | teaspoon            |\n",
      "|ketchup                                 |plain               |   36.00   | ounce               |\n",
      "|sugar                                   |                    |   2.00    | tablespoon          |\n",
      "|vinegar                                 |                    |   2.00    | tablespoon          |\n",
      "|allspice                                |                    |   1.00    | teaspoon            |\n",
      "|mustard                                 |dry                 |   1.00    | teaspoon            |\n",
      "|chili powder                            |                    |   12.00   | teaspoon            |\n",
      "|tabasco sauce                           |drops               |   5.00    |                     |\n",
      "|leaf                                    |                    |   1.00    |                     |\n",
      "|garlic powder                           |                    |   14.00   | teaspoon            |\n",
      "|paprika                                 |                    |   14.00   | teaspoon            |\n",
      "+----------------------------------------+--------------------+-----------+---------------------+\n",
      "\n",
      "|N°|AZIONE         |STRUMENTI           |INGREDIENTI                                            |\n",
      "+--+---------------+--------------------+-------------------------------------------------------|\n",
      "\n",
      "+--+---------------+--------------------+-------------------------------------------------------|\n"
     ]
    }
   ],
   "source": [
    "print(all_recipes[1626])"
   ]
  },
  {
   "cell_type": "markdown",
   "metadata": {},
   "source": [
    "## ANALISI STEP\n",
    "Ritrovamento nel testo delle seguenti informazioni:\n",
    "- Azione pricipale dello step\n",
    "- Elenco strumenti utilizzati\n",
    "- Elenco ingredienti della ricetta coinvolti nello specifico step"
   ]
  },
  {
   "cell_type": "markdown",
   "metadata": {},
   "source": [
    "### Funzioni di utilità, \n",
    "Creazione elenco di tutti gli ingredienti ritrovati nelle ricette, utilizzo di WordNet per ritrovare verbi nascosti (verbi taggati come altri elementi del testo), funzioni per il ritrovamento degli ingredienti della ricetta nello step."
   ]
  },
  {
   "cell_type": "code",
   "execution_count": 82,
   "metadata": {},
   "outputs": [],
   "source": [
    "ingredients_all_words = set()\n",
    "\n",
    "for element in all_recipes:\n",
    "    for ingredient in element.ingredients:\n",
    "        for e in ingredient.name.split(\" \"):\n",
    "            ingredients_all_words.add(cls_w(e))"
   ]
  },
  {
   "cell_type": "code",
   "execution_count": 83,
   "metadata": {},
   "outputs": [],
   "source": [
    "def hidden_verb(word):\n",
    "    ss = wn.synsets(word)\n",
    "    for s in ss:\n",
    "        if s.pos() == 'v':\n",
    "            return True\n",
    "    return False\n",
    "\n",
    "def combine_action(action_token):\n",
    "    action = cls_w(action_token.text)\n",
    "    for child in action_token.children:\n",
    "        if child.dep_ == 'prt' or child.dep_ == 'compound':\n",
    "            action += \" \" + cls_w(child.text)\n",
    "    return action\n",
    "\n",
    "\n",
    "\n",
    "\n",
    "def find_instrument(token):\n",
    "    stack = [element for element in token.children]\n",
    "    instrument = \"\"\n",
    "    found_main = False\n",
    "    main_node = None\n",
    "\n",
    "    while stack:\n",
    "        s_element = stack.pop()\n",
    "        if s_element.pos == NOUN and (cls_w(s_element.text) not in ingredients_all_words) and (not found_main) and (s_element.text not in forbidden_instruments):\n",
    "            if \"ed\" != s_element.text[-2:] and \"ing\" != s_element.text[-3:]:\n",
    "                instrument += cls_w(s_element.text)\n",
    "                found_main = True\n",
    "                main_node = s_element\n",
    "        elif s_element.dep_ == 'compound' and main_node == s_element.head and (cls_w(s_element.text) not in ingredients_all_words):\n",
    "            instrument = cls_w(s_element.text) + \" \" + instrument\n",
    "            main_node = s_element\n",
    "            \n",
    "        stack += [element for element in s_element.children]\n",
    "    return instrument\n",
    "\n",
    "\n",
    "forbidden_actions = ['done', 'will', 'be']\n",
    "forbidden_instruments = ['top']\n",
    "PREPS = ['with', 'in', 'on', 'of', 'using', 'into', 'use']\n",
    "\n",
    "def get_ingredients(recipe):\n",
    "    return {ing.name for ing in recipe.ingredients}\n",
    "\n",
    "def find_ingredients(ings, step):\n",
    "    \n",
    "    ing = set()\n",
    "    for word in step.replace(',','').replace('.','').replace('(','').replace(')','').replace('*','').split(\" \"):\n",
    "        word = cls_w(word).replace('+', '').replace('\\\\', '').replace('!', '')\n",
    "        for el in ings:\n",
    "            if re.findall(f\"(\\\\s{word}\\\\s)|({word}\\\\s)|(\\\\s{word})\", el) or el == word:\n",
    "                ing.add(el)                \n",
    "    return ing\n"
   ]
  },
  {
   "cell_type": "markdown",
   "metadata": {},
   "source": [
    "### Aggiornamento dell'elenco ricette con gli step strutturati"
   ]
  },
  {
   "cell_type": "code",
   "execution_count": 84,
   "metadata": {},
   "outputs": [
    {
     "name": "stdout",
     "output_type": "stream",
     "text": [
      "Progress: [********************]"
     ]
    }
   ],
   "source": [
    "step_index = 1\n",
    "for index in range(len(dataset)):\n",
    "    step_counter = 1\n",
    "    \n",
    "    value = round(((index+1)/len(dataset))*20)\n",
    "    print(f\"\\rProgress: [{'*'*value}{' '*(20-value)}]\", end='')\n",
    "    \n",
    "    ing_s = get_ingredients(all_recipes[index])\n",
    "    for value in range(len(dataset.iloc[index]['step'])):\n",
    "        for element in dataset.iloc[index]['step'][value].split(\";\"):\n",
    "               \n",
    "            step = NLP(cls_w(element))\n",
    "            \n",
    "            FINAL_ACTION = \"\"\n",
    "            _hidden_verbs = []\n",
    "            _found_action = False\n",
    "            found_instruments = []\n",
    "            found_ingredients = []\n",
    "            \n",
    "            for TOKEN in step:\n",
    "                if (\"ed\" != TOKEN.text[-2:]) and TOKEN.text not in forbidden_actions and (\"ing\" != TOKEN.text[-3:]):\n",
    "                    if not _found_action:\n",
    "                        if (TOKEN.pos == VERB):\n",
    "                            FINAL_ACTION = combine_action(TOKEN)\n",
    "                            _found_action = True\n",
    "                        elif hidden_verb(TOKEN.text):\n",
    "                            _hidden_verbs.append(combine_action(TOKEN))\n",
    "                            \n",
    "                if TOKEN.text in PREPS:\n",
    "                    instrument = find_instrument(TOKEN)\n",
    "                    if instrument != \"\":\n",
    "                        found_instruments.append(cls_w(instrument))\n",
    "                        \n",
    "                      \n",
    "            if FINAL_ACTION == \"\" and _hidden_verbs:\n",
    "                FINAL_ACTION = _hidden_verbs[0]\n",
    "                \n",
    "            if FINAL_ACTION != \"\":\n",
    "                found_step = Step(element, step_counter, step_index, cls_w(FINAL_ACTION), found_instruments, find_ingredients(ing_s, step.text))\n",
    "                all_recipes[index].steps.append(found_step)\n",
    "                step_counter += 1\n",
    "                step_index += 1\n",
    "\n",
    "            "
   ]
  },
  {
   "cell_type": "code",
   "execution_count": 85,
   "metadata": {},
   "outputs": [
    {
     "name": "stdout",
     "output_type": "stream",
     "text": [
      "TITOLO: worm meatshredded barbecue beef\n",
      "\n",
      "|NOME                                    |PROPRIETÀ           |QUANTITÀ   |TIPO                 |\n",
      "+----------------------------------------+--------------------+-----------+---------------------+\n",
      "|chuck pound                             |larger              |   3.00    |                     |\n",
      "|onion                                   |chopped,large       |   1.00    |                     |\n",
      "|celery                                  |chopped             |   1.00    |                     |\n",
      "|green                                   |chopped,large       |   1.00    |                     |\n",
      "|water                                   |                    |   13.00   | quart               |\n",
      "|clove garlic                            |                    |   2.00    |                     |\n",
      "|salt                                    |                    |   1.00    | teaspoon            |\n",
      "|ketchup                                 |plain               |   36.00   | ounce               |\n",
      "|sugar                                   |                    |   2.00    | tablespoon          |\n",
      "|vinegar                                 |                    |   2.00    | tablespoon          |\n",
      "|allspice                                |                    |   1.00    | teaspoon            |\n",
      "|mustard                                 |dry                 |   1.00    | teaspoon            |\n",
      "|chili powder                            |                    |   12.00   | teaspoon            |\n",
      "|tabasco sauce                           |drops               |   5.00    |                     |\n",
      "|leaf                                    |                    |   1.00    |                     |\n",
      "|garlic powder                           |                    |   14.00   | teaspoon            |\n",
      "|paprika                                 |                    |   14.00   | teaspoon            |\n",
      "+----------------------------------------+--------------------+-----------+---------------------+\n",
      "\n",
      "|N°|AZIONE         |STRUMENTI           |INGREDIENTI                                            |\n",
      "+--+---------------+--------------------+-------------------------------------------------------|\n",
      "|1 |place          |pot                 |                                                       |\n",
      "|2 |cover          |                    |water                                                  |\n",
      "|3 |cook           |                    |                                                       |\n",
      "|4 |remove         |fork                |                                                       |\n",
      "|5 |return         |                    |                                                       |\n",
      "|6 |add            |                    |                                                       |\n",
      "|7 |boil           |                    |                                                       |\n",
      "|8 |may            |                    |                                                       |\n",
      "|9 |should         |consistency         |                                                       |\n",
      "|10|serve          |                    |                                                       |\n",
      "|11|serves         |                    |                                                       |\n",
      "+--+---------------+--------------------+-------------------------------------------------------|\n"
     ]
    }
   ],
   "source": [
    "print(all_recipes[1626])"
   ]
  },
  {
   "cell_type": "markdown",
   "metadata": {},
   "source": [
    "### Dump \n",
    "Tutte le ricette vengono stampate in formato testuale secondo suddivisione in ingredienti, strumenti e step"
   ]
  },
  {
   "cell_type": "code",
   "execution_count": 86,
   "metadata": {},
   "outputs": [],
   "source": [
    "with open('../dump.txt', 'w') as f:\n",
    "    for i, index in enumerate(all_recipes):\n",
    "        f.write(index.print_unstructured() + '\\n')\n",
    "        f.write(f\"[{i}]\" + str(index) + '\\n')"
   ]
  },
  {
   "cell_type": "markdown",
   "metadata": {},
   "source": [
    "# GENERAZIONE DATABASE"
   ]
  },
  {
   "cell_type": "markdown",
   "metadata": {},
   "source": [
    "Crezione indici per ricette e ingredienti"
   ]
  },
  {
   "cell_type": "code",
   "execution_count": 87,
   "metadata": {},
   "outputs": [],
   "source": [
    "macro_ingredients = {}\n",
    "ingredients_idx = {}\n",
    "macro_actions = {}\n",
    "actions_idx = {}\n",
    "macro_instruments = {}\n",
    "instruments_idx = {}\n",
    "actions_idx = {}\n",
    "\n",
    "for element in all_recipes:\n",
    "    for ingredient in element.ingredients:\n",
    "        if ingredient.name in macro_ingredients:\n",
    "            macro_ingredients[ingredient.name] += 1\n",
    "        else:\n",
    "            macro_ingredients[ingredient.name] = 1\n",
    "            \n",
    "for index, key in enumerate(macro_ingredients):\n",
    "    ingredients_idx[key] = index\n",
    "\n",
    "for element in all_recipes:\n",
    "    for step in element.steps:\n",
    "        if step.action in macro_actions:\n",
    "            macro_actions[step.action] += 1\n",
    "        else:\n",
    "            macro_actions[step.action] = 1\n",
    "            \n",
    "        for ins in step.ins:\n",
    "            if ins in macro_instruments:\n",
    "                macro_instruments[ins] += 1\n",
    "            else:\n",
    "                macro_instruments[ins] = 1\n",
    "\n",
    "for index, key in enumerate(macro_actions):\n",
    "    actions_idx[key] = index\n",
    "\n",
    "for index, key in enumerate(macro_instruments):\n",
    "    instruments_idx[key] = index"
   ]
  },
  {
   "cell_type": "markdown",
   "metadata": {},
   "source": [
    "Creazione DDL ingredienti"
   ]
  },
  {
   "cell_type": "code",
   "execution_count": 88,
   "metadata": {},
   "outputs": [
    {
     "name": "stdout",
     "output_type": "stream",
     "text": [
      "\n",
      "DROP TABLE IF EXISTS ingredients;\n",
      "CREATE TABLE ingredients(\n",
      "id SERIAL PRIMARY KEY,\n",
      "name VARCHAR NOT NULL\n",
      ");\n",
      "\n"
     ]
    }
   ],
   "source": [
    "ING_DB_CREATE = \"\"\"\n",
    "DROP TABLE IF EXISTS ingredients;\n",
    "CREATE TABLE ingredients(\n",
    "id SERIAL PRIMARY KEY,\n",
    "name VARCHAR NOT NULL\n",
    ");\n",
    "\"\"\"\n",
    "\n",
    "print(ING_DB_CREATE)\n",
    "\n",
    "\n",
    "with open(Path(\"../database/create_ingredients.sql\").resolve(), \"w\") as ddl_file:\n",
    "    for ing in ingredients_idx:\n",
    "        name = ing.replace(\"'\", '')\n",
    "        ING_DB_CREATE = ING_DB_CREATE + f\"INSERT INTO ingredients VALUES ({ingredients_idx[ing]},\\'{name}\\');\\n\"\n",
    "    ddl_file.write(ING_DB_CREATE)"
   ]
  },
  {
   "cell_type": "markdown",
   "metadata": {},
   "source": [
    "Creazione DDL strumenti"
   ]
  },
  {
   "cell_type": "code",
   "execution_count": 89,
   "metadata": {},
   "outputs": [
    {
     "name": "stdout",
     "output_type": "stream",
     "text": [
      "\n",
      "DROP TABLE IF EXISTS instruments;\n",
      "CREATE TABLE instruments(\n",
      "id SERIAL PRIMARY KEY,\n",
      "name VARCHAR NOT NULL\n",
      ");\n",
      "\n"
     ]
    }
   ],
   "source": [
    "ING_DB_CREATE = \"\"\"\n",
    "DROP TABLE IF EXISTS instruments;\n",
    "CREATE TABLE instruments(\n",
    "id SERIAL PRIMARY KEY,\n",
    "name VARCHAR NOT NULL\n",
    ");\n",
    "\"\"\"\n",
    "\n",
    "print(ING_DB_CREATE)\n",
    "\n",
    "\n",
    "with open(Path(\"../database/create_instruments.sql\").resolve(), \"w\") as ddl_file:\n",
    "    for ins in instruments_idx:\n",
    "        ING_DB_CREATE = ING_DB_CREATE + f\"INSERT INTO instruments VALUES ({instruments_idx[ins]},\\'{ins}\\');\\n\"\n",
    "    ddl_file.write(ING_DB_CREATE)"
   ]
  },
  {
   "cell_type": "markdown",
   "metadata": {},
   "source": [
    "Creazione DDL azioni"
   ]
  },
  {
   "cell_type": "code",
   "execution_count": 90,
   "metadata": {},
   "outputs": [
    {
     "name": "stdout",
     "output_type": "stream",
     "text": [
      "\n",
      "DROP TABLE IF EXISTS actions;\n",
      "CREATE TABLE actions(\n",
      "id SERIAL PRIMARY KEY,\n",
      "name VARCHAR NOT NULL\n",
      ");\n",
      "\n"
     ]
    }
   ],
   "source": [
    "ING_DB_CREATE = \"\"\"\n",
    "DROP TABLE IF EXISTS actions;\n",
    "CREATE TABLE actions(\n",
    "id SERIAL PRIMARY KEY,\n",
    "name VARCHAR NOT NULL\n",
    ");\n",
    "\"\"\"\n",
    "\n",
    "print(ING_DB_CREATE)\n",
    "\n",
    "\n",
    "with open(Path(\"../database/create_actions.sql\").resolve(), \"w\") as ddl_file:\n",
    "    for act in actions_idx:\n",
    "        ING_DB_CREATE = ING_DB_CREATE + f\"INSERT INTO actions VALUES ({actions_idx[act]},\\'{act}\\');\\n\"\n",
    "    ddl_file.write(ING_DB_CREATE)"
   ]
  },
  {
   "cell_type": "markdown",
   "metadata": {},
   "source": [
    "Creazione DDL ricette"
   ]
  },
  {
   "cell_type": "code",
   "execution_count": 91,
   "metadata": {},
   "outputs": [
    {
     "name": "stdout",
     "output_type": "stream",
     "text": [
      "\n",
      "DROP TABLE IF EXISTS recipes;\n",
      "CREATE TABLE recipes(\n",
      "id SERIAL PRIMARY KEY,\n",
      "titolo VARCHAR NOT NULL,\n",
      "preparazione_nstr VARCHAR,\n",
      "ingredienti_nstr VARCHAR\n",
      ");\n",
      "\n"
     ]
    }
   ],
   "source": [
    "REC_DB_CREATE = \"\"\"\n",
    "DROP TABLE IF EXISTS recipes;\n",
    "CREATE TABLE recipes(\n",
    "id SERIAL PRIMARY KEY,\n",
    "titolo VARCHAR NOT NULL,\n",
    "preparazione_nstr VARCHAR,\n",
    "ingredienti_nstr VARCHAR\n",
    ");\n",
    "\"\"\"\n",
    "\n",
    "print(REC_DB_CREATE)\n",
    "\n",
    "\n",
    "\n",
    "with open(Path(\"../database/create_recipes.sql\").resolve(), \"w\") as ddl_file:\n",
    "    for rec in all_recipes:\n",
    "        \n",
    "        corrected_ing = rec.ing_str.replace(\"\\'\",\"\\'\\'\")\n",
    "        corrected_stp = rec.stp_str.replace(\"\\'\",\"\\'\\'\")\n",
    "        corrected_tit = rec.title.replace(\"\\'\",\"\\'\\'\")\n",
    "        \n",
    "        REC_DB_CREATE = REC_DB_CREATE + f\"INSERT INTO recipes (id, titolo, ingredienti_nstr, preparazione_nstr) VALUES ({rec.idx},\\'{corrected_tit}\\',\\'{corrected_ing}\\',\\'{corrected_stp}\\');\\n\"\n",
    "    ddl_file.write(REC_DB_CREATE)"
   ]
  },
  {
   "cell_type": "markdown",
   "metadata": {},
   "source": [
    "Creazione DDL step"
   ]
  },
  {
   "cell_type": "code",
   "execution_count": 92,
   "metadata": {},
   "outputs": [
    {
     "name": "stdout",
     "output_type": "stream",
     "text": [
      "\n",
      "DROP TABLE IF EXISTS steps;\n",
      "CREATE TABLE steps(\n",
      "id SERIAL PRIMARY KEY,\n",
      "descrizione VARCHAR,\n",
      "numero_step INT,\n",
      "actionID INT NOT NULL,\n",
      "FOREIGN KEY (actionID) REFERENCES actions(id)\n",
      ");\n",
      "\n"
     ]
    }
   ],
   "source": [
    "CON_DB_CREATE = \"\"\"\n",
    "DROP TABLE IF EXISTS steps;\n",
    "CREATE TABLE steps(\n",
    "id SERIAL PRIMARY KEY,\n",
    "descrizione VARCHAR,\n",
    "numero_step INT,\n",
    "actionID INT NOT NULL,\n",
    "FOREIGN KEY (actionID) REFERENCES actions(id)\n",
    ");\n",
    "\"\"\"\n",
    "\n",
    "print(CON_DB_CREATE)\n",
    "\n",
    "with open(Path(\"../database/create_steps.sql\").resolve(), \"w\") as ddl_file:\n",
    "    for r in all_recipes:\n",
    "        for s in r.steps:\n",
    "            desc = s.step_str.replace(\"'\", '')\n",
    "            data = f\"(\\'{desc}\\',{s.step_no}, {actions_idx[s.action]})\"\n",
    "            CON_DB_CREATE = CON_DB_CREATE + f\"INSERT INTO steps (descrizione, numero_step, actionID) VALUES {data};\\n\"\n",
    "    ddl_file.write(CON_DB_CREATE)   "
   ]
  },
  {
   "cell_type": "markdown",
   "metadata": {},
   "source": [
    "Crezione DDL tabella relazione Ricette <--> Ingredienti"
   ]
  },
  {
   "cell_type": "code",
   "execution_count": 93,
   "metadata": {},
   "outputs": [
    {
     "name": "stdout",
     "output_type": "stream",
     "text": [
      "\n",
      "DROP TABLE IF EXISTS contains;\n",
      "CREATE TABLE contains(\n",
      "id SERIAL PRIMARY KEY,\n",
      "misura VARCHAR,\n",
      "quantita FLOAT,\n",
      "proprieta VARCHAR,\n",
      "recipeID INT NOT NULL,\n",
      "ingredientID INT NOT NULL,\n",
      "FOREIGN KEY (recipeID) REFERENCES recipes(id),\n",
      "FOREIGN KEY (ingredientID) REFERENCES ingredients(id)\n",
      ");\n",
      "\n"
     ]
    }
   ],
   "source": [
    "CON_DB_CREATE = \"\"\"\n",
    "DROP TABLE IF EXISTS contains;\n",
    "CREATE TABLE contains(\n",
    "id SERIAL PRIMARY KEY,\n",
    "misura VARCHAR,\n",
    "quantita FLOAT,\n",
    "proprieta VARCHAR,\n",
    "recipeID INT NOT NULL,\n",
    "ingredientID INT NOT NULL,\n",
    "FOREIGN KEY (recipeID) REFERENCES recipes(id),\n",
    "FOREIGN KEY (ingredientID) REFERENCES ingredients(id)\n",
    ");\n",
    "\"\"\"\n",
    "\n",
    "print(CON_DB_CREATE)\n",
    "\n",
    "\n",
    "with open(Path(\"../database/create_contains.sql\").resolve(), \"w\") as ddl_file:\n",
    "    for r in all_recipes:\n",
    "        for i in r.ingredients:\n",
    "            if i.name.strip() != \"\" and i.size.strip() != \"\":\n",
    "                adj = ', '.join(i.adj)\n",
    "                data = f\"(\\'{i.size.strip()}\\',{i.quantity},\\'{adj}\\',{r.idx}, {ingredients_idx[i.name]})\"\n",
    "                CON_DB_CREATE = CON_DB_CREATE + f\"INSERT INTO contains (misura, quantita, proprieta, recipeID, ingredientID) VALUES {data};\\n\"\n",
    "    ddl_file.write(CON_DB_CREATE)      "
   ]
  },
  {
   "cell_type": "markdown",
   "metadata": {},
   "source": [
    "Crezione DDL tabella relazione Step <--> Strumenti"
   ]
  },
  {
   "cell_type": "code",
   "execution_count": 94,
   "metadata": {},
   "outputs": [
    {
     "name": "stdout",
     "output_type": "stream",
     "text": [
      "\n",
      "DROP TABLE IF EXISTS utilize;\n",
      "CREATE TABLE utilize(\n",
      "id SERIAL PRIMARY KEY,\n",
      "instrumentID INT NOT NULL,\n",
      "stepID INT NOT NULL,\n",
      "FOREIGN KEY (instrumentID) REFERENCES instruments(id),\n",
      "FOREIGN KEY (stepID) REFERENCES steps(id)\n",
      ");\n",
      "\n"
     ]
    }
   ],
   "source": [
    "CON_DB_CREATE = \"\"\"\n",
    "DROP TABLE IF EXISTS utilize;\n",
    "CREATE TABLE utilize(\n",
    "id SERIAL PRIMARY KEY,\n",
    "instrumentID INT NOT NULL,\n",
    "stepID INT NOT NULL,\n",
    "FOREIGN KEY (instrumentID) REFERENCES instruments(id),\n",
    "FOREIGN KEY (stepID) REFERENCES steps(id)\n",
    ");\n",
    "\"\"\"\n",
    "\n",
    "print(CON_DB_CREATE)\n",
    "\n",
    "\n",
    "with open(Path(\"../database/create_utilize.sql\").resolve(), \"w\") as ddl_file:\n",
    "    for r in all_recipes:\n",
    "        for s in r.steps:\n",
    "            for i in s.ins:\n",
    "                data = f\"({instruments_idx[i]}, {s.idx})\"\n",
    "                CON_DB_CREATE = CON_DB_CREATE + f\"INSERT INTO utilize (instrumentID, stepID) VALUES {data};\\n\"\n",
    "    ddl_file.write(CON_DB_CREATE)  "
   ]
  },
  {
   "cell_type": "markdown",
   "metadata": {},
   "source": [
    "Crezione DDL tabella relazione Step <--> Ricette"
   ]
  },
  {
   "cell_type": "code",
   "execution_count": 95,
   "metadata": {},
   "outputs": [
    {
     "name": "stdout",
     "output_type": "stream",
     "text": [
      "\n",
      "DROP TABLE IF EXISTS composed;\n",
      "CREATE TABLE composed(\n",
      "id SERIAL PRIMARY KEY,\n",
      "recipeID INT NOT NULL,\n",
      "stepID INT NOT NULL,\n",
      "FOREIGN KEY (recipeID) REFERENCES recipes(id),\n",
      "FOREIGN KEY (stepID) REFERENCES steps(id)\n",
      ");\n",
      "\n"
     ]
    }
   ],
   "source": [
    "CON_DB_CREATE = \"\"\"\n",
    "DROP TABLE IF EXISTS composed;\n",
    "CREATE TABLE composed(\n",
    "id SERIAL PRIMARY KEY,\n",
    "recipeID INT NOT NULL,\n",
    "stepID INT NOT NULL,\n",
    "FOREIGN KEY (recipeID) REFERENCES recipes(id),\n",
    "FOREIGN KEY (stepID) REFERENCES steps(id)\n",
    ");\n",
    "\"\"\"\n",
    "\n",
    "print(CON_DB_CREATE)\n",
    "\n",
    "\n",
    "with open(Path(\"../database/create_composed.sql\").resolve(), \"w\") as ddl_file:\n",
    "    for r in all_recipes:\n",
    "        for s in r.steps:\n",
    "            data = f\"({r.idx}, {s.idx})\"\n",
    "            CON_DB_CREATE = CON_DB_CREATE + f\"INSERT INTO composed (recipeID, stepID) VALUES {data};\\n\"\n",
    "    ddl_file.write(CON_DB_CREATE)  "
   ]
  },
  {
   "cell_type": "markdown",
   "metadata": {},
   "source": [
    "Crezione DDL tabella relazione Step <--> Ingredienti"
   ]
  },
  {
   "cell_type": "code",
   "execution_count": 96,
   "metadata": {},
   "outputs": [
    {
     "name": "stdout",
     "output_type": "stream",
     "text": [
      "\n",
      "DROP TABLE IF EXISTS involves;\n",
      "CREATE TABLE involves(\n",
      "id SERIAL PRIMARY KEY,\n",
      "ingredientID INT NOT NULL,\n",
      "stepID INT NOT NULL,\n",
      "FOREIGN KEY (ingredientID) REFERENCES ingredients(id),\n",
      "FOREIGN KEY (stepID) REFERENCES steps(id)\n",
      ");\n",
      "\n"
     ]
    }
   ],
   "source": [
    "CON_DB_CREATE = \"\"\"\n",
    "DROP TABLE IF EXISTS involves;\n",
    "CREATE TABLE involves(\n",
    "id SERIAL PRIMARY KEY,\n",
    "ingredientID INT NOT NULL,\n",
    "stepID INT NOT NULL,\n",
    "FOREIGN KEY (ingredientID) REFERENCES ingredients(id),\n",
    "FOREIGN KEY (stepID) REFERENCES steps(id)\n",
    ");\n",
    "\"\"\"\n",
    "\n",
    "print(CON_DB_CREATE)\n",
    "\n",
    "\n",
    "with open(Path(\"../database/create_involves.sql\").resolve(), \"w\") as ddl_file:\n",
    "    for r in all_recipes:\n",
    "        for s in r.steps:\n",
    "            for i in s.ing:\n",
    "                data = f\"({ingredients_idx[i]}, {s.step_no})\"\n",
    "                CON_DB_CREATE = CON_DB_CREATE + f\"INSERT INTO involves (ingredientID, stepID) VALUES {data};\\n\"\n",
    "    ddl_file.write(CON_DB_CREATE)  "
   ]
  },
  {
   "cell_type": "code",
   "execution_count": null,
   "metadata": {},
   "outputs": [],
   "source": []
  }
 ],
 "metadata": {
  "interpreter": {
   "hash": "8fef19a476ade33c91668e3897e6fa668c17f7c4a539d9a83d441085d42ee0ef"
  },
  "kernelspec": {
   "display_name": "Python 3 (ipykernel)",
   "language": "python",
   "name": "python3"
  },
  "language_info": {
   "codemirror_mode": {
    "name": "ipython",
    "version": 3
   },
   "file_extension": ".py",
   "mimetype": "text/x-python",
   "name": "python",
   "nbconvert_exporter": "python",
   "pygments_lexer": "ipython3",
   "version": "3.9.7"
  }
 },
 "nbformat": 4,
 "nbformat_minor": 2
}
