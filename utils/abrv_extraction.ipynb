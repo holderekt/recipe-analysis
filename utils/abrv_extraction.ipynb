{
 "cells": [
  {
   "cell_type": "code",
   "execution_count": 21,
   "metadata": {},
   "outputs": [
    {
     "name": "stdout",
     "output_type": "stream",
     "text": [
      "4 c. shredded cabbage\n",
      "1/2 c. shredded carrots\n",
      "1/4 c. finely chopped green pepper\n",
      "2 Tbsp. finely chopped onion\n",
      "1/2 c. mayonnaise\n",
      "1 Tbsp. vinegar\n",
      "2 tsp. sugar\n",
      "1 tsp. celery seed\n",
      "1/4 tsp. salt\n",
      "\n",
      "\n",
      "4 cup shredded cabbage\n",
      "1/2 cup shredded carrots\n",
      "1/4 cup finely chopped green pepper\n",
      "2 tablespoon finely chopped onion\n",
      "1/2 cup mayonnaise\n",
      "1 tablespoon vinegar\n",
      "2 teaspoon sugar\n",
      "1 teaspoon celery seed\n",
      "1/4 teaspoon salt\n"
     ]
    }
   ],
   "source": [
    "from pathlib import Path\n",
    "import pandas as pd\n",
    "from IPython.display import display\n",
    "from ast import literal_eval\n",
    "import re\n",
    "\n",
    "def expand_abbreviations(ingredients_string):\n",
    "    __ABBREVIATIONS__ = {\n",
    "        'pkg.'  :   'package',\n",
    "        'tsb.'  :   'tablespoon',\n",
    "        'no.'   :   'number',\n",
    "        'pt.'   :   'pint',\n",
    "        'no.'   :   'number',\n",
    "        'gal.'  :   'gallon',\n",
    "        'tbsp.' :   'tablespoon',\n",
    "        'sq.'   :   'square',\n",
    "        'oz.'   :   'ounce',\n",
    "        'lb.'   :   'pound',\n",
    "        'qt.'   :   'quart',\n",
    "        'c.'    :   'cup',\n",
    "        'tsp.'  :   'teaspoon'\n",
    "    }\n",
    "    for item, value in __ABBREVIATIONS__.items():\n",
    "        ingredients_string = ingredients_string.replace(item, value)\n",
    "    return ingredients_string\n",
    "\n",
    "def string_recipe(i):\n",
    "    return dataset.iloc[i]['title'] + \"\\n\\n\" + dataset.iloc[i]['ingredients'] + \"\\n\\n\" + dataset.iloc[i]['step'] \n",
    "\n",
    "dataset = pd.read_csv(\n",
    "    Path(\"../data/test_dataset.csv\").resolve(), \n",
    "    index_col=[0], \n",
    "    names=[\"index\", \"title\",\"ingredients\",\"step\"], \n",
    "    usecols=[0,1,2,3]\n",
    "    )\n",
    "\n",
    "\n",
    "abbrv = set()\n",
    "for index in range(len(dataset)):\n",
    "    dataset.iloc[index]['ingredients'] = \"\\n\".join(literal_eval(dataset.iloc[index]['ingredients']))\n",
    "    dataset.iloc[index]['step'] = \"\".join(literal_eval(dataset.iloc[index]['step']))\n",
    "    for element in re.findall(r\"[A-Za-z]*\\.\", dataset.iloc[index]['ingredients']):\n",
    "        abbrv.add(element)\n",
    "\n",
    "\n",
    "print(dataset.iloc[50]['ingredients'])\n",
    "print('\\n')\n",
    "print(expand_abbreviations(dataset.iloc[50]['ingredients'].lower()))\n"
   ]
  },
  {
   "cell_type": "code",
   "execution_count": null,
   "metadata": {},
   "outputs": [],
   "source": []
  }
 ],
 "metadata": {
  "interpreter": {
   "hash": "8fef19a476ade33c91668e3897e6fa668c17f7c4a539d9a83d441085d42ee0ef"
  },
  "kernelspec": {
   "display_name": "Python 3.9.7 64-bit ('Progetto_GDNS': conda)",
   "language": "python",
   "name": "python3"
  },
  "language_info": {
   "codemirror_mode": {
    "name": "ipython",
    "version": 3
   },
   "file_extension": ".py",
   "mimetype": "text/x-python",
   "name": "python",
   "nbconvert_exporter": "python",
   "pygments_lexer": "ipython3",
   "version": "3.9.7"
  },
  "orig_nbformat": 4
 },
 "nbformat": 4,
 "nbformat_minor": 2
}
