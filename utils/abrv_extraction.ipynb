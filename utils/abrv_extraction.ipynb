{
 "cells": [
  {
   "cell_type": "markdown",
   "metadata": {},
   "source": [
    "### Estrazione delle abbreviazioni\n",
    "Preprocessing del dataset, rimozione delle abbreviazioni in quanto possono essere dannose per il processo di tokenizzazione. Es pkg. ---> package"
   ]
  },
  {
   "cell_type": "code",
   "execution_count": 8,
   "metadata": {},
   "outputs": [
    {
     "name": "stdout",
     "output_type": "stream",
     "text": [
      "4 c. shredded cabbage.\n",
      "1/2 c. shredded carrots.\n",
      "1/4 c. finely chopped green pepper.\n",
      "2 Tbsp. finely chopped onion.\n",
      "1/2 c. mayonnaise.\n",
      "1 Tbsp. vinegar.\n",
      "2 tsp. sugar.\n",
      "1 tsp. celery seed.\n",
      "1/4 tsp. salt\n",
      "\n",
      "\n",
      "4 cup shredded cabbage.\n",
      "1/2 cup shredded carrots.\n",
      "1/4 cup finely chopped green pepper.\n",
      "2 tablespoon finely chopped onion.\n",
      "1/2 cup mayonnaise.\n",
      "1 tablespoon vinegar.\n",
      "2 teaspoon sugar.\n",
      "1 teaspoon celery seed.\n",
      "1/4 teaspoon salt\n"
     ]
    }
   ],
   "source": [
    "from pathlib import Path\n",
    "import pandas as pd\n",
    "from IPython.display import display\n",
    "from ast import literal_eval\n",
    "import re\n",
    "\n",
    "def expand_abbreviations(ingredients_string):\n",
    "    __ABBREVIATIONS__ = {\n",
    "        'pkg.'  :   'package',\n",
    "        'tsb.'  :   'tablespoon',\n",
    "        'no.'   :   'number',\n",
    "        'pt.'   :   'pint',\n",
    "        'no.'   :   'number',\n",
    "        'gal.'  :   'gallon',\n",
    "        'tbsp.' :   'tablespoon',\n",
    "        'sq.'   :   'square',\n",
    "        'oz.'   :   'ounce',\n",
    "        'lb.'   :   'pound',\n",
    "        'qt.'   :   'quart',\n",
    "        'c.'    :   'cup',\n",
    "        'tsp.'  :   'teaspoon'\n",
    "    }\n",
    "    for item, value in __ABBREVIATIONS__.items():\n",
    "        ingredients_string = ingredients_string.lower().replace(item, value)\n",
    "    return ingredients_string\n",
    "\n",
    "def string_recipe(i):\n",
    "    return dataset.iloc[i]['title'] + \"\\n\\n\" + dataset.iloc[i]['ingredients'] + \"\\n\\n\" + dataset.iloc[i]['step'] \n",
    "\n",
    "dataset = pd.read_csv(\n",
    "    Path(\"../data/test_dataset.csv\").resolve(), \n",
    "    index_col=[0], \n",
    "    names=[\"index\", \"title\",\"ingredients\",\"step\"], \n",
    "    usecols=[0,1,2,3]\n",
    "    )\n",
    "\n",
    "\n",
    "abbrv = set()\n",
    "for index in range(len(dataset)):\n",
    "    dataset.iloc[index]['ingredients'] = \".\\n\".join(literal_eval(dataset.iloc[index]['ingredients']))\n",
    "    dataset.iloc[index]['step'] = \"\".join(literal_eval(dataset.iloc[index]['step']))\n",
    "    for element in re.findall(r\"[A-Za-z]*\\.\", dataset.iloc[index]['ingredients']):\n",
    "        abbrv.add(element)\n",
    "\n",
    "\n",
    "print(dataset.iloc[50]['ingredients'])\n",
    "print('\\n')\n",
    "print(expand_abbreviations(dataset.iloc[50]['ingredients']))\n"
   ]
  },
  {
   "cell_type": "code",
   "execution_count": 10,
   "metadata": {},
   "outputs": [],
   "source": [
    "for index in range(len(dataset)):\n",
    "    dataset.iloc[index]['ingredients'] = expand_abbreviations(dataset.iloc[index]['ingredients'])"
   ]
  },
  {
   "cell_type": "code",
   "execution_count": 11,
   "metadata": {},
   "outputs": [
    {
     "data": {
      "text/html": [
       "<div>\n",
       "<style scoped>\n",
       "    .dataframe tbody tr th:only-of-type {\n",
       "        vertical-align: middle;\n",
       "    }\n",
       "\n",
       "    .dataframe tbody tr th {\n",
       "        vertical-align: top;\n",
       "    }\n",
       "\n",
       "    .dataframe thead th {\n",
       "        text-align: right;\n",
       "    }\n",
       "</style>\n",
       "<table border=\"1\" class=\"dataframe\">\n",
       "  <thead>\n",
       "    <tr style=\"text-align: right;\">\n",
       "      <th></th>\n",
       "      <th>title</th>\n",
       "      <th>ingredients</th>\n",
       "      <th>step</th>\n",
       "    </tr>\n",
       "    <tr>\n",
       "      <th>index</th>\n",
       "      <th></th>\n",
       "      <th></th>\n",
       "      <th></th>\n",
       "    </tr>\n",
       "  </thead>\n",
       "  <tbody>\n",
       "    <tr>\n",
       "      <th>1</th>\n",
       "      <td>Jewell Ball'S Chicken</td>\n",
       "      <td>1 small jar chipped beef, cut up.\\n4 boned chi...</td>\n",
       "      <td>Place chipped beef on bottom of baking dish.Pl...</td>\n",
       "    </tr>\n",
       "    <tr>\n",
       "      <th>2</th>\n",
       "      <td>Creamy Corn</td>\n",
       "      <td>2 (16 ounce) package frozen corn.\\n1 (8 ounce)...</td>\n",
       "      <td>In a slow cooker, combine all ingredients. Cov...</td>\n",
       "    </tr>\n",
       "    <tr>\n",
       "      <th>3</th>\n",
       "      <td>Chicken Funny</td>\n",
       "      <td>1 large whole chicken.\\n2 (10 1/2 ounce) cans ...</td>\n",
       "      <td>Boil and debone chicken.Put bite size pieces i...</td>\n",
       "    </tr>\n",
       "    <tr>\n",
       "      <th>4</th>\n",
       "      <td>Reeses Cups(Candy)</td>\n",
       "      <td>1 cup peanut butter.\\n3/4 cup graham cracker c...</td>\n",
       "      <td>Combine first four ingredients and press in 13...</td>\n",
       "    </tr>\n",
       "    <tr>\n",
       "      <th>5</th>\n",
       "      <td>Cheeseburger Potato Soup</td>\n",
       "      <td>6 baking potatoes.\\n1 pound of extra lean grou...</td>\n",
       "      <td>Wash potatoes; prick several times with a fork...</td>\n",
       "    </tr>\n",
       "  </tbody>\n",
       "</table>\n",
       "</div>"
      ],
      "text/plain": [
       "                          title  \\\n",
       "index                             \n",
       "1         Jewell Ball'S Chicken   \n",
       "2                   Creamy Corn   \n",
       "3                 Chicken Funny   \n",
       "4          Reeses Cups(Candy)     \n",
       "5      Cheeseburger Potato Soup   \n",
       "\n",
       "                                             ingredients  \\\n",
       "index                                                      \n",
       "1      1 small jar chipped beef, cut up.\\n4 boned chi...   \n",
       "2      2 (16 ounce) package frozen corn.\\n1 (8 ounce)...   \n",
       "3      1 large whole chicken.\\n2 (10 1/2 ounce) cans ...   \n",
       "4      1 cup peanut butter.\\n3/4 cup graham cracker c...   \n",
       "5      6 baking potatoes.\\n1 pound of extra lean grou...   \n",
       "\n",
       "                                                    step  \n",
       "index                                                     \n",
       "1      Place chipped beef on bottom of baking dish.Pl...  \n",
       "2      In a slow cooker, combine all ingredients. Cov...  \n",
       "3      Boil and debone chicken.Put bite size pieces i...  \n",
       "4      Combine first four ingredients and press in 13...  \n",
       "5      Wash potatoes; prick several times with a fork...  "
      ]
     },
     "metadata": {},
     "output_type": "display_data"
    },
    {
     "name": "stdout",
     "output_type": "stream",
     "text": [
      "['1 box powdered sugar.', '8 ounce soft butter.', '1 (8 ounce) peanut butter.', 'paraffin.', '12 ounce chocolate chips']\n"
     ]
    }
   ],
   "source": [
    "from nltk.tokenize import word_tokenize, sent_tokenize\n",
    "\n",
    "example_ingredients = []\n",
    "for index in range(len(dataset)):\n",
    "     example_ingredients.append(sent_tokenize(dataset.iloc[index]['ingredients']))\n",
    "\n",
    "display(dataset.head())\n",
    "print(example_ingredients[10])"
   ]
  }
 ],
 "metadata": {
  "interpreter": {
   "hash": "8fef19a476ade33c91668e3897e6fa668c17f7c4a539d9a83d441085d42ee0ef"
  },
  "kernelspec": {
   "display_name": "Python 3.9.7 64-bit ('Progetto_GDNS': conda)",
   "language": "python",
   "name": "python3"
  },
  "language_info": {
   "codemirror_mode": {
    "name": "ipython",
    "version": 3
   },
   "file_extension": ".py",
   "mimetype": "text/x-python",
   "name": "python",
   "nbconvert_exporter": "python",
   "pygments_lexer": "ipython3",
   "version": "3.9.7"
  },
  "orig_nbformat": 4
 },
 "nbformat": 4,
 "nbformat_minor": 2
}
